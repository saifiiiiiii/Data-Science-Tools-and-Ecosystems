{
 "cells": [
  {
   "cell_type": "markdown",
   "id": "20c34b22-c257-4c8f-8f0b-a2dc6de76944",
   "metadata": {},
   "source": [
    "# Data Science Tools and Ecosystem"
   ]
  },
  {
   "cell_type": "markdown",
   "id": "d3e88906-b556-4006-85b4-6c27f075d1e7",
   "metadata": {},
   "source": [
    "#### in this notebook, data science tools and ecosystems are summarized"
   ]
  },
  {
   "cell_type": "markdown",
   "id": "14a0f36d-152a-4ecb-8136-b087f08c6952",
   "metadata": {},
   "source": [
    "#### Some of the popular languages that data scientists use are:\n",
    "1. Python\n",
    "2. R\n",
    "3. SQL"
   ]
  },
  {
   "cell_type": "markdown",
   "id": "4be6a3d8-fcf7-40d3-9f0c-d7da27a98eed",
   "metadata": {},
   "source": [
    "### Some of the commonly used libraries used by data scientists include:\n",
    " 1. NumPy\n",
    " 2. Matplotlib\n",
    " 3. Pandas"
   ]
  },
  {
   "cell_type": "markdown",
   "id": "dba7c4c2-664f-4531-af6c-99c50b212599",
   "metadata": {},
   "source": [
    "\n",
    "|Data Science Tools|\n",
    "|------------------|\n",
    "|Hadoop            |\n",
    "|Spark             |\n",
    "|Metabase          |"
   ]
  },
  {
   "cell_type": "markdown",
   "id": "28bccac1-118d-4c0d-b6d5-e407d9e9a292",
   "metadata": {},
   "source": [
    "### Below are a few examples of evaluating arithmetic expressions in python"
   ]
  },
  {
   "cell_type": "code",
   "execution_count": 29,
   "id": "7bde655f-840c-4b2d-834c-028b11dbfad8",
   "metadata": {},
   "outputs": [
    {
     "data": {
      "text/plain": [
       "17"
      ]
     },
     "execution_count": 29,
     "metadata": {},
     "output_type": "execute_result"
    }
   ],
   "source": [
    "#This is a simple expression to multiply and then add the integers\n",
    "(3*4)+5"
   ]
  },
  {
   "cell_type": "code",
   "execution_count": 31,
   "id": "bd195e94-098b-4ca2-af4b-32c65e4bddeb",
   "metadata": {},
   "outputs": [
    {
     "data": {
      "text/plain": [
       "3.3333333333333335"
      ]
     },
     "execution_count": 31,
     "metadata": {},
     "output_type": "execute_result"
    }
   ],
   "source": [
    "#This will convert 200 mins into to hours by dividing by 60\n",
    "(200/60)"
   ]
  },
  {
   "cell_type": "markdown",
   "id": "9cf94ce9-7509-43ab-a041-b82b8b2c9dfa",
   "metadata": {},
   "source": [
    "_Objectives:_\n",
    "+ List Popular languages for data science\n",
    "+ Addition\n",
    "+ Division\n",
    "+ Multiplication\n",
    "+ Libraries for data science\n",
    "+ Tools for data science\n"
   ]
  },
  {
   "cell_type": "markdown",
   "id": "cbdc2434-233e-43e8-b770-c18db399969e",
   "metadata": {},
   "source": [
    "## Author\n",
    "Saif Baigmohamed\n"
   ]
  },
  {
   "cell_type": "code",
   "execution_count": null,
   "id": "92d51459-1ae7-486c-b9b3-584f2dac8293",
   "metadata": {},
   "outputs": [],
   "source": []
  }
 ],
 "metadata": {
  "kernelspec": {
   "display_name": "Python [conda env:NEWENV]",
   "language": "python",
   "name": "conda-env-NEWENV-py"
  },
  "language_info": {
   "codemirror_mode": {
    "name": "ipython",
    "version": 3
   },
   "file_extension": ".py",
   "mimetype": "text/x-python",
   "name": "python",
   "nbconvert_exporter": "python",
   "pygments_lexer": "ipython3",
   "version": "3.9.21"
  }
 },
 "nbformat": 4,
 "nbformat_minor": 5
}
